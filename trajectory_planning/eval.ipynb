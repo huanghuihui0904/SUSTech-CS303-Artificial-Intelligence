{
 "cells": [
  {
   "cell_type": "code",
   "execution_count": 4,
   "metadata": {
    "collapsed": true
   },
   "outputs": [
    {
     "name": "stderr",
     "output_type": "stream",
     "text": [
      "  0%|          | 0/500 [00:00<?, ?it/s]\n"
     ]
    },
    {
     "ename": "AttributeError",
     "evalue": "module 'torch' has no attribute 'vmap'",
     "output_type": "error",
     "traceback": [
      "\u001B[1;31m---------------------------------------------------------------------------\u001B[0m",
      "\u001B[1;31mAttributeError\u001B[0m                            Traceback (most recent call last)",
      "Input \u001B[1;32mIn [4]\u001B[0m, in \u001B[0;36m<cell line: 10>\u001B[1;34m()\u001B[0m\n\u001B[0;32m     26\u001B[0m target_pos, target_features, target_cls, class_scores \u001B[38;5;241m=\u001B[39m generate_game(n_targets, N_CTPS, feature, label)\n\u001B[0;32m     27\u001B[0m \u001B[38;5;66;03m#ctps_inter 选中的是哪个点\u001B[39;00m\n\u001B[1;32m---> 28\u001B[0m ctps_inter \u001B[38;5;241m=\u001B[39m \u001B[43magent\u001B[49m\u001B[38;5;241;43m.\u001B[39;49m\u001B[43mget_action\u001B[49m\u001B[43m(\u001B[49m\u001B[43mtarget_pos\u001B[49m\u001B[43m,\u001B[49m\u001B[43m \u001B[49m\u001B[43mtarget_features\u001B[49m\u001B[43m,\u001B[49m\u001B[43m \u001B[49m\u001B[43mclass_scores\u001B[49m\u001B[43m)\u001B[49m\n\u001B[0;32m     29\u001B[0m \u001B[38;5;66;03m#class_scores[target_cls]是知道每个点多少分的，但是我的agent是不知道的\u001B[39;00m\n\u001B[0;32m     30\u001B[0m \u001B[38;5;66;03m# print(ctps_inter)\u001B[39;00m\n\u001B[0;32m     31\u001B[0m score \u001B[38;5;241m=\u001B[39m evaluate(compute_traj(ctps_inter), target_pos, class_scores[target_cls], RADIUS)\n",
      "File \u001B[1;32mD:\\files2\\ai\\lab\\AiLabCode\\Proj3\\test3.py:103\u001B[0m, in \u001B[0;36mAgent.get_action\u001B[1;34m(self, target_pos, target_features, class_scores)\u001B[0m\n\u001B[0;32m    100\u001B[0m     stResultList\u001B[38;5;241m.\u001B[39mappend(ev)\n\u001B[0;32m    102\u001B[0m x \u001B[38;5;241m=\u001B[39m torch\u001B[38;5;241m.\u001B[39mstack((stList[\u001B[38;5;241m0\u001B[39m], stList[\u001B[38;5;241m1\u001B[39m], stList[\u001B[38;5;241m2\u001B[39m], stList[\u001B[38;5;241m3\u001B[39m], stList[N \u001B[38;5;241m-\u001B[39m \u001B[38;5;241m1\u001B[39m]), dim\u001B[38;5;241m=\u001B[39m\u001B[38;5;241m0\u001B[39m)\n\u001B[1;32m--> 103\u001B[0m y\u001B[38;5;241m=\u001B[39m\u001B[43mtorch\u001B[49m\u001B[38;5;241;43m.\u001B[39;49m\u001B[43mvmap\u001B[49m(evaluate_modify)(x)\n\u001B[0;32m    104\u001B[0m \u001B[38;5;66;03m# y=torch.stack((stResultList[0], stResultList[1], stResultList[2], stResultList[3], stResultList[N - 1]), dim=0)\u001B[39;00m\n\u001B[0;32m    105\u001B[0m \u001B[38;5;28mprint\u001B[39m(x)\n",
      "\u001B[1;31mAttributeError\u001B[0m: module 'torch' has no attribute 'vmap'"
     ]
    }
   ],
   "source": [
    "\n",
    "from src import generate_game, N_CTPS, evaluate, compute_traj, RADIUS\n",
    "from test3 import *\n",
    "from tqdm import tqdm # a convenient progress bar\n",
    "import torch\n",
    "\n",
    "N_EVALS = 500\n",
    "\n",
    "\n",
    "\n",
    "if __name__ == \"__main__\":\n",
    "    n_targets = 40\n",
    "    agent = Agent()\n",
    "    # This is a example of what the evaluation procedure looks like.\n",
    "    # The whole dataset is divided into a training set and a test set.\n",
    "    # The training set (including `data` and `label`) is distributed to you.\n",
    "    # But in the final evaluation we will use the test set.\n",
    "\n",
    "    data = torch.load(\"data.pth\")\n",
    "    # label = data[\"label_train\"]\n",
    "    # feature = data[\"data_train\"]\n",
    "    label = data[\"label\"]\n",
    "    feature = data[\"feature\"]\n",
    "    scores = []\n",
    "    for game in tqdm(range(N_EVALS)):\n",
    "        # the class information is unavailable at test time.\n",
    "        target_pos, target_features, target_cls, class_scores = generate_game(n_targets, N_CTPS, feature, label)\n",
    "        #ctps_inter 选中的是哪个点\n",
    "        ctps_inter = agent.get_action(target_pos, target_features, class_scores)\n",
    "        #class_scores[target_cls]是知道每个点多少分的，但是我的agent是不知道的\n",
    "        # print(ctps_inter)\n",
    "        score = evaluate(compute_traj(ctps_inter), target_pos, class_scores[target_cls], RADIUS)\n",
    "        # print(\"score\")\n",
    "        # print(score)\n",
    "        scores.append(score)\n",
    "\n",
    "    print(torch.stack(scores).float().mean())\n",
    "\n",
    "\n"
   ]
  },
  {
   "cell_type": "code",
   "execution_count": null,
   "outputs": [],
   "source": [],
   "metadata": {
    "collapsed": false
   }
  }
 ],
 "metadata": {
  "kernelspec": {
   "display_name": "Python 3",
   "language": "python",
   "name": "python3"
  },
  "language_info": {
   "codemirror_mode": {
    "name": "ipython",
    "version": 2
   },
   "file_extension": ".py",
   "mimetype": "text/x-python",
   "name": "python",
   "nbconvert_exporter": "python",
   "pygments_lexer": "ipython2",
   "version": "2.7.6"
  }
 },
 "nbformat": 4,
 "nbformat_minor": 0
}
